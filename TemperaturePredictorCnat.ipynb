{
 "cells": [
  {
   "cell_type": "markdown",
   "metadata": {},
   "source": [
    "### In this notebook, I'm going to try some witchery in order to generate a prediction of temperature from carbon and some other biogeochemical parameters.\n",
    "#### First, we need to load in the .mat file of interest.\n",
    "This has been handled by the script `JuliaReadMat.ipynb`, which read the `.mat` file into a Julia dataframe and then wrote it to a CSV, called `24_north.csv` (saved in this folder). We can therefore just read it into python with pandas"
   ]
  },
  {
   "cell_type": "code",
   "execution_count": 11,
   "metadata": {},
   "outputs": [],
   "source": [
    "import pandas as pd\n",
    "import numpy as np\n",
    "\n",
    "alldata_24N_csv_filename = \"/Users/ct6g18/Python/keras/ML_Carbon/24_north.csv\"\n",
    "data_24N = pd.read_csv(alldata_24N_csv_filename)\n",
    "\n",
    "data_24N[\"DATE\"] = data_24N[\"DATE\"] // 10000 # No idea why this is off by ten thousand but whatever.\n",
    "\n",
    "theta = data_24N[\"theta\"].loc[data_24N['DATE'] < 1993]\n",
    "dic   = data_24N[\"dic\"].loc[data_24N['DATE'] < 1993]\n",
    "stn   = data_24N[\"stn\"].loc[data_24N['DATE'] < 1993]\n",
    "prs   = data_24N[\"pressure\"].loc[data_24N['DATE'] < 1993]\n",
    "gam   = data_24N[\"gamn\"].loc[data_24N['DATE'] < 1993]\n",
    "lon   = data_24N[\"longitude\"].loc[data_24N['DATE'] < 1993]\n",
    "lat   = data_24N[\"latitude\"].loc[data_24N['DATE'] < 1993]\n",
    "toxy  = data_24N[\"toxy\"].loc[data_24N['DATE'] < 1993]\n",
    "NO    = data_24N[\"NO\"].loc[data_24N['DATE'] < 1993]\n",
    "PO    = data_24N[\"PO\"].loc[data_24N['DATE'] < 1993]\n",
    "date  = data_24N[\"DATE\"].loc[data_24N['DATE'] < 1993] \n",
    "TrOCA = data_24N[\"canth_TrOCA_corr_umolperkg\"].loc[data_24N['DATE'] < 1993]\n",
    "TTD = data_24N[\"canth_TTD_corr_umolperkg\"].loc[data_24N['DATE'] < 1993]\n",
    "phi = data_24N[\"canth_phi_corr_umolperkg\"].loc[data_24N['DATE'] < 1993]\n",
    "Cstar = data_24N[\"canth_Cstar_corr_umolperkg\"].loc[data_24N['DATE'] < 1993]"
   ]
  },
  {
   "cell_type": "code",
   "execution_count": 12,
   "metadata": {},
   "outputs": [],
   "source": [
    "theta = np.asarray(theta)\n",
    "dic   = np.asarray(dic)\n",
    "prs   = np.asarray(prs)\n",
    "gam   = np.asarray(gam)\n",
    "stn   = np.asarray(stn)\n",
    "lon   = np.asarray(lon)\n",
    "lat   = np.asarray(lat)\n",
    "NO    = np.asarray(NO)\n",
    "PO    = np.asarray(PO)\n",
    "TTD   = np.asarray(TTD)\n",
    "TrOCA = np.asarray(TrOCA)\n",
    "phi   = np.asarray(phi)\n",
    "Cstar = np.asarray(Cstar)\n",
    "\n",
    "Cnat_Cstar = dic - Cstar\n",
    "Cnat_TTD = dic - TTD\n",
    "Cnat_phi = dic - phi\n",
    "Cnat_TrOCA = dic - TrOCA\n",
    "\n"
   ]
  },
  {
   "cell_type": "code",
   "execution_count": 13,
   "metadata": {},
   "outputs": [],
   "source": [
    "idx_arr = np.random.permutation(len(theta))\n",
    "\n",
    "theta = theta[idx_arr]\n",
    "Cnat_Cstar = Cnat_Cstar[idx_arr]\n",
    "Cnat_TrOCA = Cnat_TrOCA[idx_arr]\n",
    "Cnat_TTD = Cnat_TTD[idx_arr]\n",
    "Cnat_phi = Cnat_phi[idx_arr]\n",
    "prs = prs[idx_arr]\n",
    "gam = gam[idx_arr]\n",
    "stn = stn[idx_arr]\n",
    "lon = lon[idx_arr]\n",
    "lat = lat[idx_arr]\n",
    "NO = NO[idx_arr]\n",
    "PO = PO[idx_arr]\n",
    "\n",
    "data = np.asarray([theta,Cnat_Cstar,Cnat_phi,Cnat_TrOCA,Cnat_TTD,prs,lon,NO,PO]).transpose(1,0)\n",
    "data = np.nan_to_num(data)"
   ]
  },
  {
   "cell_type": "markdown",
   "metadata": {},
   "source": [
    "Now we're going to want to split this up into training, validation and test data.\n",
    "It's a fairly small dataset so we can probably reserve 20% for testing."
   ]
  },
  {
   "cell_type": "code",
   "execution_count": 14,
   "metadata": {},
   "outputs": [],
   "source": [
    "int(np.floor(len(theta) * 0.8)) # 1812\n",
    "\n",
    "train_targets = theta[:1812]\n",
    "test_targets = theta[1812:]\n",
    "\n",
    "train_data = data[:1812,:]\n",
    "test_data = data[1812:,:]\n",
    "\n",
    "mean_values = train_data.mean(axis=0)\n",
    "std_values = train_data.std(axis=0)\n",
    "\n",
    "train_data -= mean_values\n",
    "train_data /= std_values\n",
    "\n",
    "test_data -= mean_values\n",
    "test_data /= std_values"
   ]
  },
  {
   "cell_type": "markdown",
   "metadata": {},
   "source": [
    "Check this has done what we expect"
   ]
  },
  {
   "cell_type": "code",
   "execution_count": 15,
   "metadata": {},
   "outputs": [
    {
     "data": {
      "text/plain": [
       "array([1., 1., 1., 1., 1., 1., 1., 1., 1.])"
      ]
     },
     "execution_count": 15,
     "metadata": {},
     "output_type": "execute_result"
    }
   ],
   "source": [
    "train_data.mean(axis=0)\n",
    "train_data.std(axis=0)"
   ]
  },
  {
   "cell_type": "markdown",
   "metadata": {},
   "source": [
    "Okay sweet. Now lets get on with training our model\n",
    "\n",
    "- First lets split the training data into training and validation data"
   ]
  },
  {
   "cell_type": "code",
   "execution_count": 16,
   "metadata": {},
   "outputs": [
    {
     "data": {
      "text/plain": [
       "array([], shape=(0, 9), dtype=float64)"
      ]
     },
     "execution_count": 16,
     "metadata": {},
     "output_type": "execute_result"
    }
   ],
   "source": [
    "train_data = train_data[:1400,:]\n",
    "val_data = train_data[1400:,:]\n",
    "\n",
    "train_targets = train_targets[:1400]\n",
    "val_targets = train_targets[1400:]\n",
    "\n",
    "val_data"
   ]
  },
  {
   "cell_type": "code",
   "execution_count": 17,
   "metadata": {},
   "outputs": [
    {
     "name": "stdout",
     "output_type": "stream",
     "text": [
      "Init Plugin\n",
      "Init Graph Optimizer\n",
      "Init Kernel\n",
      "Metal device set to: Apple M1 Pro\n",
      "\n",
      "systemMemory: 32.00 GB\n",
      "maxCacheSize: 10.67 GB\n",
      "\n"
     ]
    },
    {
     "name": "stderr",
     "output_type": "stream",
     "text": [
      "2022-10-15 16:09:34.993766: I tensorflow/core/common_runtime/pluggable_device/pluggable_device_factory.cc:305] Could not identify NUMA node of platform GPU ID 0, defaulting to 0. Your kernel may not have been built with NUMA support.\n",
      "2022-10-15 16:09:34.993876: I tensorflow/core/common_runtime/pluggable_device/pluggable_device_factory.cc:271] Created TensorFlow device (/job:localhost/replica:0/task:0/device:GPU:0 with 0 MB memory) -> physical PluggableDevice (device: 0, name: METAL, pci bus id: <undefined>)\n",
      "2022-10-15 16:09:35.152316: I tensorflow/compiler/mlir/mlir_graph_optimization_pass.cc:176] None of the MLIR Optimization Passes are enabled (registered 2)\n",
      "2022-10-15 16:09:35.152500: W tensorflow/core/platform/profile_utils/cpu_utils.cc:128] Failed to get CPU frequency: 0 Hz\n"
     ]
    },
    {
     "name": "stdout",
     "output_type": "stream",
     "text": [
      "Epoch 1/15\n",
      " 9/88 [==>...........................] - ETA: 0s - loss: 190.8698 - mae: 10.5079   "
     ]
    },
    {
     "name": "stderr",
     "output_type": "stream",
     "text": [
      "2022-10-15 16:09:42.477046: I tensorflow/core/grappler/optimizers/custom_graph_optimizer_registry.cc:112] Plugin optimizer for device_type GPU is enabled.\n"
     ]
    },
    {
     "name": "stdout",
     "output_type": "stream",
     "text": [
      "88/88 [==============================] - 8s 7ms/step - loss: 144.0541 - mae: 9.0175\n",
      "Epoch 2/15\n",
      "88/88 [==============================] - 1s 7ms/step - loss: 8.2520 - mae: 1.9279\n",
      "Epoch 3/15\n",
      "88/88 [==============================] - 1s 7ms/step - loss: 2.6113 - mae: 0.7958\n",
      "Epoch 4/15\n",
      "88/88 [==============================] - 1s 7ms/step - loss: 0.7414 - mae: 0.5049\n",
      "Epoch 5/15\n",
      "88/88 [==============================] - 1s 7ms/step - loss: 0.2717 - mae: 0.3760\n",
      "Epoch 6/15\n",
      "88/88 [==============================] - 1s 7ms/step - loss: 0.1990 - mae: 0.3164\n",
      "Epoch 7/15\n",
      "88/88 [==============================] - 1s 7ms/step - loss: 0.1885 - mae: 0.3076\n",
      "Epoch 8/15\n",
      "88/88 [==============================] - 1s 7ms/step - loss: 0.1172 - mae: 0.2445\n",
      "Epoch 9/15\n",
      "88/88 [==============================] - 1s 7ms/step - loss: 0.1114 - mae: 0.2347\n",
      "Epoch 10/15\n",
      "88/88 [==============================] - 1s 7ms/step - loss: 0.1299 - mae: 0.2455\n",
      "Epoch 11/15\n",
      "88/88 [==============================] - 1s 7ms/step - loss: 0.1288 - mae: 0.2462\n",
      "Epoch 12/15\n",
      "88/88 [==============================] - 1s 7ms/step - loss: 0.1022 - mae: 0.2243\n",
      "Epoch 13/15\n",
      "88/88 [==============================] - 1s 7ms/step - loss: 0.0876 - mae: 0.2046\n",
      "Epoch 14/15\n",
      "88/88 [==============================] - 1s 7ms/step - loss: 0.0821 - mae: 0.2072\n",
      "Epoch 15/15\n",
      "88/88 [==============================] - 1s 7ms/step - loss: 0.0831 - mae: 0.2001\n",
      "15/15 [==============================] - 0s 4ms/step - loss: 0.1226 - mae: 0.2703\n",
      "So the mean error is approximately 0.27 degrees\n"
     ]
    },
    {
     "name": "stderr",
     "output_type": "stream",
     "text": [
      "2022-10-15 16:09:51.744607: I tensorflow/core/grappler/optimizers/custom_graph_optimizer_registry.cc:112] Plugin optimizer for device_type GPU is enabled.\n"
     ]
    }
   ],
   "source": [
    "from keras import models, layers\n",
    "\n",
    "model = models.Sequential()\n",
    "model.add(layers.Dense(64,activation='relu'\n",
    "                      ,input_shape=(train_data.shape[1],)))\n",
    "model.add(layers.Dense(64,activation='relu'))\n",
    "model.add(layers.Dense(1))\n",
    "model.compile(optimizer='rmsprop',loss='mse',metrics=['mae'])\n",
    "\n",
    "model.fit(train_data,train_targets,epochs=15,batch_size=16)\n",
    "val_mse,val_mae = model.evaluate(test_data,test_targets)\n",
    "print(f\"So the mean error is approximately {val_mae:.2f} degrees\")"
   ]
  },
  {
   "cell_type": "code",
   "execution_count": 18,
   "metadata": {},
   "outputs": [
    {
     "name": "stderr",
     "output_type": "stream",
     "text": [
      "2022-10-15 16:09:54.366716: I tensorflow/core/grappler/optimizers/custom_graph_optimizer_registry.cc:112] Plugin optimizer for device_type GPU is enabled.\n"
     ]
    }
   ],
   "source": [
    "pred_theta = model.predict(test_data)\n",
    "actual_theta = test_targets"
   ]
  },
  {
   "cell_type": "code",
   "execution_count": 19,
   "metadata": {},
   "outputs": [
    {
     "data": {
      "text/plain": [
       "Text(0.5, 1.0, 'Predicted Temperature from DIC, NO, PO, Pressure & Longitude')"
      ]
     },
     "execution_count": 19,
     "metadata": {},
     "output_type": "execute_result"
    },
    {
     "data": {
      "image/png": "[encoded data removed]",
      "text/plain": [
       "<Figure size 640x480 with 1 Axes>"
      ]
     },
     "metadata": {},
     "output_type": "display_data"
    }
   ],
   "source": [
    "import matplotlib.pyplot as plt\n",
    "plt.plot(actual_theta,pred_theta,'bo')\n",
    "plt.xlabel('Actual Temperature')\n",
    "plt.ylabel('Predicted Temperature')\n",
    "plt.title('Predicted Temperature from DIC, NO, PO, Pressure & Longitude')"
   ]
  },
  {
   "cell_type": "code",
   "execution_count": 20,
   "metadata": {},
   "outputs": [
    {
     "name": "stdout",
     "output_type": "stream",
     "text": [
      "R^2 value = 0.9983, ie. 99.83% of variance captured\n"
     ]
    }
   ],
   "source": [
    "from sklearn.metrics import r2_score\n",
    "TestR2Value = r2_score(actual_theta,pred_theta)\n",
    "print(f\"R^2 value = {TestR2Value:.4f}, ie. {100*TestR2Value:.2f}% of variance captured\")"
   ]
  },
  {
   "cell_type": "markdown",
   "metadata": {},
   "source": [
    "#### This new implementation uses the Cnat fields. \n",
    "As expected, this is has given us a larger number of 'DIC' fields but probably a \n",
    "reduced accuracy.\n",
    "\n",
    "Anyhow, the first thing to do at this point would be to have a look at whether \n",
    "we can now us this model to predict the section temperature distribution for the\n",
    "next cruise."
   ]
  },
  {
   "cell_type": "code",
   "execution_count": null,
   "metadata": {},
   "outputs": [],
   "source": [
    "section = plt.scatter(lon, prs, c=theta)\n",
    "# marker=None, cmap=None, norm=None, vmin=None, vmax=None, alpha=None, linewidths=None, *, edgecolors=None, plotnonfinite=False, data=None, **kwargs)\n",
    "ax = section.axes\n",
    "plt.colorbar()\n",
    "ax.invert_yaxis()\n",
    "plt.xlabel(\"Longitude\")\n",
    "plt.xlabel(\"Pressure\")\n",
    "plt.title(\"Actual Temperature\")"
   ]
  },
  {
   "cell_type": "code",
   "execution_count": null,
   "metadata": {},
   "outputs": [],
   "source": [
    "pred_theta_all = model.predict(data)\n",
    "pred_theta_all"
   ]
  },
  {
   "cell_type": "code",
   "execution_count": null,
   "metadata": {},
   "outputs": [],
   "source": [
    "section = plt.scatter(lon, prs, c=pred_theta_all)\n",
    "# marker=None, cmap=None, norm=None, vmin=None, vmax=None, alpha=None, linewidths=None, *, edgecolors=None, plotnonfinite=False, data=None, **kwargs)\n",
    "ax = section.axes\n",
    "plt.colorbar()\n",
    "ax.invert_yaxis()\n",
    "plt.xlabel(\"Longitude\")\n",
    "plt.xlabel(\"Pressure\")\n",
    "plt.title(\"Predicted Temperature\")\n",
    "plt.clim(0,30)"
   ]
  },
  {
   "cell_type": "code",
   "execution_count": null,
   "metadata": {},
   "outputs": [],
   "source": [
    "pred_theta_all = np.squeeze(np.asarray(pred_theta_all))\n",
    "theta = np.asarray(theta)\n",
    "print(f'Predicted temperature shape: {pred_theta_all.shape}')\n",
    "print(f'Predicted temperature shape: {theta.shape}')\n"
   ]
  },
  {
   "cell_type": "code",
   "execution_count": null,
   "metadata": {},
   "outputs": [],
   "source": [
    "section = plt.scatter(lon, prs, c=pred_theta_all - theta)\n",
    "# marker=None, cmap=None, norm=None, vmin=None, vmax=None, alpha=None, linewidths=None, *, edgecolors=None, plotnonfinite=False, data=None, **kwargs)\n",
    "ax = section.axes\n",
    "plt.colorbar()\n",
    "ax.invert_yaxis()\n",
    "plt.xlabel(\"Longitude\")\n",
    "plt.xlabel(\"Pressure\")\n",
    "plt.title(\"Predicted - Actual Temperature\")\n",
    "plt.clim(-1,1)"
   ]
  },
  {
   "cell_type": "markdown",
   "metadata": {},
   "source": [
    "Interestingly, it looks like we've actually got a model with less systematic bias when we use the `DIC - Canth` model\n",
    "\n",
    "##### Minor notes\n",
    "- Model is now noiser, but the errors look uncorrelated so we can probably smooth these out spatially somehow\n",
    "- We're still getting a massive underestimate in the western boundary. Not really sure why but it's probably something to look into\n",
    "\n",
    "\n",
    "# Questions to answer now:\n",
    "\n",
    "1. Can we easily grid this using GLODAP section gridder? Intuition tells me yes, using a random exception expocode name\n",
    "    - It turns out we can, and it's pretty straightforward to do: see `gridPredictedTemperatureDIVAnd.ipynb`.\n",
    "2. If that works, how similar does it look to the background? \n",
    "    - Very.\n"
   ]
  },
  {
   "cell_type": "code",
   "execution_count": null,
   "metadata": {},
   "outputs": [],
   "source": [
    "# I'm using G2longitude and G2pressure because I want to feed them into my \n",
    "# Julia toolbox\n",
    "var_names = [\"G2longitude\",\"G2latitude\",\"G2pressure\",\"G2gamma\",\"G2station\",\"theta_actual\",\"theta_predicted\"]\n",
    "var_vals = [lon,lat,prs,gam,stn,theta,pred_theta_all]\n",
    "\n",
    "outputs = dict(zip(var_names,var_vals))\n",
    "output_df = pd.DataFrame(outputs)\n",
    "\n",
    "output_df.to_csv(\"pred_theta_for_gridding.csv\")\n"
   ]
  },
  {
   "cell_type": "markdown",
   "metadata": {},
   "source": [
    "## Full steam ahead with gridding the whole lot then."
   ]
  },
  {
   "cell_type": "code",
   "execution_count": 36,
   "metadata": {},
   "outputs": [],
   "source": [
    "# I don't even need to worry about the year because I'm not predicting based on \n",
    "# the year. So I can just give it all the data, predict the outcomes, and then \n",
    "# start gridding them the way I usually would in Julia.\n",
    "\n",
    "alldata_24N_csv_filename = \"/Users/ct6g18/Python/keras/ML_Carbon/24_north.csv\"\n",
    "data_24N = pd.read_csv(alldata_24N_csv_filename)\n",
    "data_24N[\"DATE\"] = data_24N[\"DATE\"] / 10000 # No idea why this is off by ten thousand but whatever.\n",
    "\n",
    "theta = data_24N[\"theta\"]\n",
    "dic   = data_24N[\"dic\"]\n",
    "stn   = data_24N[\"stn\"]\n",
    "prs   = data_24N[\"pressure\"]\n",
    "gam   = data_24N[\"gamn\"]\n",
    "lon   = data_24N[\"longitude\"]\n",
    "lat   = data_24N[\"latitude\"]\n",
    "toxy  = data_24N[\"toxy\"]\n",
    "NO    = data_24N[\"NO\"]\n",
    "PO    = data_24N[\"PO\"]\n",
    "year  = data_24N[\"year\"]\n",
    "date  = data_24N[\"DATE\"]\n",
    "TrOCA = data_24N[\"canth_TrOCA_corr_umolperkg\"]\n",
    "TTD = data_24N[\"canth_TTD_corr_umolperkg\"]\n",
    "phi = data_24N[\"canth_phi_corr_umolperkg\"]\n",
    "Cstar = data_24N[\"canth_Cstar_corr_umolperkg\"]"
   ]
  },
  {
   "cell_type": "code",
   "execution_count": 37,
   "metadata": {},
   "outputs": [],
   "source": [
    "theta = np.asarray(theta)\n",
    "dic   = np.asarray(dic)\n",
    "prs   = np.asarray(prs)\n",
    "gam   = np.asarray(gam)\n",
    "stn   = np.asarray(stn)\n",
    "lon   = np.asarray(lon)\n",
    "lat   = np.asarray(lat)\n",
    "year   = np.asarray(year)\n",
    "date   = np.asarray(date)\n",
    "NO    = np.asarray(NO)\n",
    "PO    = np.asarray(PO)\n",
    "TTD   = np.asarray(TTD)\n",
    "TrOCA = np.asarray(TrOCA)\n",
    "phi   = np.asarray(phi)\n",
    "Cstar = np.asarray(Cstar)\n",
    "\n",
    "Cnat_Cstar = dic - Cstar\n",
    "Cnat_TTD = dic - TTD\n",
    "Cnat_phi = dic - phi\n",
    "Cnat_TrOCA = dic - TrOCA\n"
   ]
  },
  {
   "cell_type": "code",
   "execution_count": 38,
   "metadata": {},
   "outputs": [],
   "source": [
    "data = np.asarray([theta,Cnat_Cstar,Cnat_phi,Cnat_TrOCA,Cnat_TTD,prs,lon,NO,PO]).transpose(1,0)\n",
    "data = np.nan_to_num(data)\n",
    "\n",
    "mean_values = data.mean(axis=0)\n",
    "std_values = data.std(axis=0)\n",
    "\n",
    "data -= mean_values\n",
    "data /= std_values"
   ]
  },
  {
   "cell_type": "code",
   "execution_count": 39,
   "metadata": {},
   "outputs": [],
   "source": [
    "pred_theta = model.predict(data)"
   ]
  },
  {
   "cell_type": "code",
   "execution_count": 40,
   "metadata": {},
   "outputs": [],
   "source": [
    "pred_theta = pred_theta.mean(axis=1)"
   ]
  },
  {
   "cell_type": "code",
   "execution_count": 41,
   "metadata": {},
   "outputs": [
    {
     "data": {
      "text/plain": [
       "(14399,)"
      ]
     },
     "execution_count": 41,
     "metadata": {},
     "output_type": "execute_result"
    }
   ],
   "source": [
    "pred_theta.shape"
   ]
  },
  {
   "cell_type": "code",
   "execution_count": 42,
   "metadata": {},
   "outputs": [],
   "source": [
    "# I'm using G2longitude and G2pressure because I want to feed them into my \n",
    "# # Julia toolbox. So long as this is 14399 long or whatever I think we're good to go.\n",
    "var_names = [\"G2longitude\",\"G2latitude\",\"G2year\",\"G2pressure\",\"G2gamma\"\n",
    ",\"G2station\",\"G2theta_actual\",\"G2theta_predicted\",\"DATE\"]\n",
    "var_vals = [lon,lat,year,prs,gam,stn,theta,pred_theta,date]\n",
    "\n",
    "outputs = dict(zip(var_names,var_vals))\n",
    "output_df = pd.DataFrame(outputs)\n",
    "\n",
    "output_df.to_csv(\"pred_theta_all.csv\",index=False)"
   ]
  },
  {
   "cell_type": "code",
   "execution_count": 43,
   "metadata": {},
   "outputs": [
    {
     "data": {
      "text/html": [
       "<div>\n",
       "<style scoped>\n",
       "    .dataframe tbody tr th:only-of-type {\n",
       "        vertical-align: middle;\n",
       "    }\n",
       "\n",
       "    .dataframe tbody tr th {\n",
       "        vertical-align: top;\n",
       "    }\n",
       "\n",
       "    .dataframe thead th {\n",
       "        text-align: right;\n",
       "    }\n",
       "</style>\n",
       "<table border=\"1\" class=\"dataframe\">\n",
       "  <thead>\n",
       "    <tr style=\"text-align: right;\">\n",
       "      <th></th>\n",
       "      <th>G2longitude</th>\n",
       "      <th>G2latitude</th>\n",
       "      <th>G2year</th>\n",
       "      <th>G2pressure</th>\n",
       "      <th>G2gamma</th>\n",
       "      <th>G2station</th>\n",
       "      <th>G2theta_actual</th>\n",
       "      <th>G2theta_predicted</th>\n",
       "      <th>DATE</th>\n",
       "    </tr>\n",
       "  </thead>\n",
       "  <tbody>\n",
       "    <tr>\n",
       "      <th>0</th>\n",
       "      <td>-16.933</td>\n",
       "      <td>24.5027</td>\n",
       "      <td>1992.0</td>\n",
       "      <td>3.7</td>\n",
       "      <td>25.593021</td>\n",
       "      <td>4.0</td>\n",
       "      <td>21.3287</td>\n",
       "      <td>23.903028</td>\n",
       "      <td>1992.0721</td>\n",
       "    </tr>\n",
       "    <tr>\n",
       "      <th>1</th>\n",
       "      <td>-16.933</td>\n",
       "      <td>24.5027</td>\n",
       "      <td>1992.0</td>\n",
       "      <td>26.2</td>\n",
       "      <td>25.655777</td>\n",
       "      <td>4.0</td>\n",
       "      <td>21.2860</td>\n",
       "      <td>23.801424</td>\n",
       "      <td>1992.0721</td>\n",
       "    </tr>\n",
       "    <tr>\n",
       "      <th>2</th>\n",
       "      <td>-16.933</td>\n",
       "      <td>24.5027</td>\n",
       "      <td>1992.0</td>\n",
       "      <td>52.0</td>\n",
       "      <td>26.069903</td>\n",
       "      <td>4.0</td>\n",
       "      <td>20.0529</td>\n",
       "      <td>22.583555</td>\n",
       "      <td>1992.0721</td>\n",
       "    </tr>\n",
       "    <tr>\n",
       "      <th>3</th>\n",
       "      <td>-16.933</td>\n",
       "      <td>24.5027</td>\n",
       "      <td>1992.0</td>\n",
       "      <td>77.2</td>\n",
       "      <td>26.391063</td>\n",
       "      <td>4.0</td>\n",
       "      <td>18.4570</td>\n",
       "      <td>21.042835</td>\n",
       "      <td>1992.0721</td>\n",
       "    </tr>\n",
       "    <tr>\n",
       "      <th>4</th>\n",
       "      <td>-16.933</td>\n",
       "      <td>24.5027</td>\n",
       "      <td>1992.0</td>\n",
       "      <td>103.8</td>\n",
       "      <td>26.567774</td>\n",
       "      <td>4.0</td>\n",
       "      <td>18.1738</td>\n",
       "      <td>20.727480</td>\n",
       "      <td>1992.0721</td>\n",
       "    </tr>\n",
       "    <tr>\n",
       "      <th>...</th>\n",
       "      <td>...</td>\n",
       "      <td>...</td>\n",
       "      <td>...</td>\n",
       "      <td>...</td>\n",
       "      <td>...</td>\n",
       "      <td>...</td>\n",
       "      <td>...</td>\n",
       "      <td>...</td>\n",
       "      <td>...</td>\n",
       "    </tr>\n",
       "    <tr>\n",
       "      <th>14394</th>\n",
       "      <td>-79.174</td>\n",
       "      <td>26.9870</td>\n",
       "      <td>2012.0</td>\n",
       "      <td>33.0</td>\n",
       "      <td>22.699752</td>\n",
       "      <td>33.0</td>\n",
       "      <td>29.2450</td>\n",
       "      <td>31.358252</td>\n",
       "      <td>2012.0731</td>\n",
       "    </tr>\n",
       "    <tr>\n",
       "      <th>14395</th>\n",
       "      <td>-79.174</td>\n",
       "      <td>26.9870</td>\n",
       "      <td>2012.0</td>\n",
       "      <td>23.0</td>\n",
       "      <td>22.635063</td>\n",
       "      <td>33.0</td>\n",
       "      <td>29.4110</td>\n",
       "      <td>30.766285</td>\n",
       "      <td>2012.0731</td>\n",
       "    </tr>\n",
       "    <tr>\n",
       "      <th>14396</th>\n",
       "      <td>-79.174</td>\n",
       "      <td>26.9870</td>\n",
       "      <td>2012.0</td>\n",
       "      <td>13.0</td>\n",
       "      <td>22.609934</td>\n",
       "      <td>33.0</td>\n",
       "      <td>29.4940</td>\n",
       "      <td>31.729708</td>\n",
       "      <td>2012.0731</td>\n",
       "    </tr>\n",
       "    <tr>\n",
       "      <th>14397</th>\n",
       "      <td>-79.174</td>\n",
       "      <td>26.9870</td>\n",
       "      <td>2012.0</td>\n",
       "      <td>3.0</td>\n",
       "      <td>22.580589</td>\n",
       "      <td>33.0</td>\n",
       "      <td>29.5570</td>\n",
       "      <td>29.728354</td>\n",
       "      <td>2012.0731</td>\n",
       "    </tr>\n",
       "    <tr>\n",
       "      <th>14398</th>\n",
       "      <td>-79.174</td>\n",
       "      <td>26.9870</td>\n",
       "      <td>2012.0</td>\n",
       "      <td>3.0</td>\n",
       "      <td>22.580589</td>\n",
       "      <td>33.0</td>\n",
       "      <td>29.5570</td>\n",
       "      <td>31.059820</td>\n",
       "      <td>2012.0731</td>\n",
       "    </tr>\n",
       "  </tbody>\n",
       "</table>\n",
       "<p>14399 rows × 9 columns</p>\n",
       "</div>"
      ],
      "text/plain": [
       "       G2longitude  G2latitude  G2year  G2pressure    G2gamma  G2station  \\\n",
       "0          -16.933     24.5027  1992.0         3.7  25.593021        4.0   \n",
       "1          -16.933     24.5027  1992.0        26.2  25.655777        4.0   \n",
       "2          -16.933     24.5027  1992.0        52.0  26.069903        4.0   \n",
       "3          -16.933     24.5027  1992.0        77.2  26.391063        4.0   \n",
       "4          -16.933     24.5027  1992.0       103.8  26.567774        4.0   \n",
       "...            ...         ...     ...         ...        ...        ...   \n",
       "14394      -79.174     26.9870  2012.0        33.0  22.699752       33.0   \n",
       "14395      -79.174     26.9870  2012.0        23.0  22.635063       33.0   \n",
       "14396      -79.174     26.9870  2012.0        13.0  22.609934       33.0   \n",
       "14397      -79.174     26.9870  2012.0         3.0  22.580589       33.0   \n",
       "14398      -79.174     26.9870  2012.0         3.0  22.580589       33.0   \n",
       "\n",
       "       G2theta_actual  G2theta_predicted       DATE  \n",
       "0             21.3287          23.903028  1992.0721  \n",
       "1             21.2860          23.801424  1992.0721  \n",
       "2             20.0529          22.583555  1992.0721  \n",
       "3             18.4570          21.042835  1992.0721  \n",
       "4             18.1738          20.727480  1992.0721  \n",
       "...               ...                ...        ...  \n",
       "14394         29.2450          31.358252  2012.0731  \n",
       "14395         29.4110          30.766285  2012.0731  \n",
       "14396         29.4940          31.729708  2012.0731  \n",
       "14397         29.5570          29.728354  2012.0731  \n",
       "14398         29.5570          31.059820  2012.0731  \n",
       "\n",
       "[14399 rows x 9 columns]"
      ]
     },
     "execution_count": 43,
     "metadata": {},
     "output_type": "execute_result"
    }
   ],
   "source": [
    "output_df"
   ]
  }
 ],
 "metadata": {
  "kernelspec": {
   "display_name": "Python 3.9.13 ('tensorflow')",
   "language": "python",
   "name": "python3"
  },
  "language_info": {
   "codemirror_mode": {
    "name": "ipython",
    "version": 3
   },
   "file_extension": ".py",
   "mimetype": "text/x-python",
   "name": "python",
   "nbconvert_exporter": "python",
   "pygments_lexer": "ipython3",
   "version": "3.9.13"
  },
  "orig_nbformat": 4,
  "vscode": {
   "interpreter": {
    "hash": "4bd624a0593993fe43ac4046b27b898fb2ef75c21c08f81e89e64ea0f51df676"
   }
  }
 },
 "nbformat": 4,
 "nbformat_minor": 2
}
