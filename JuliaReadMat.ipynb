{
 "cells": [
  {
   "cell_type": "markdown",
   "metadata": {},
   "source": [
    "## We want to load up a bunch of data to run some ML stuff on. \n",
    "### This stuff is saved in a .mat file. Loading this into Python is a pain in the ass\n",
    "Lets do it using Julia, then write the fields of interest to a netCDF, since Julia has some pretty good facilities for that."
   ]
  },
  {
   "cell_type": "code",
   "execution_count": 3,
   "metadata": {},
   "outputs": [],
   "source": [
    "using MATLAB\n",
    "using NCDatasets\n",
    "using DataStructures"
   ]
  },
  {
   "cell_type": "code",
   "execution_count": 6,
   "metadata": {},
   "outputs": [
    {
     "name": "stdout",
     "output_type": "stream",
     "text": [
      "canth_Cstar_corr_umolperkg\n",
      "PO\n",
      "cruisetime\n",
      "decyear\n",
      "toy\n",
      "canth_phi_corr_umolperm3\n",
      "dectoy\n",
      "canth_Cstar_raw\n",
      "lon\n",
      "TTD\n",
      "theta\n",
      "canth_Cstar_corr_molperm3\n",
      "phi\n",
      "temp\n",
      "canth_TrOCA_corr_kmolperm3\n",
      "canth_Cstar_corr_umolperm3\n",
      "canth_TTD_corr_umolperkg\n",
      "NO\n",
      "day\n",
      "lonbox\n",
      "toxy\n",
      "latitude\n",
      "salinity\n",
      "month\n",
      "longitude\n",
      "hour\n",
      "canth_TrOCA_raw\n",
      "DATE\n",
      "mldepdens\n",
      "TIME\n",
      "canth_TrOCA_corr_umolperkg\n",
      "nit\n",
      "stn\n",
      "canth_phi_raw\n",
      "mldentemp\n",
      "canth_TrOCA_corr_molperm3\n",
      "canth_Cstar_corr_kmolperm3\n",
      "mldendens\n",
      "canth_TTD_corr_kmolperm3\n",
      "min\n",
      "gamn\n",
      "canth_TrOCA_corr_umolperm3\n",
      "pres\n",
      "sal\n",
      "TrOCA\n",
      "canth_TTD_corr_molperm3\n",
      "pressure\n",
      "canth_TTD_raw\n",
      "year\n",
      "canth_phi_corr_molperm3\n",
      "canth_phi_corr_umolperkg\n",
      "sil\n",
      "TOC\n",
      "canth_phi_corr_kmolperm3\n",
      "dic\n",
      "Cstar\n",
      "alk0\n",
      "canth_TTD_corr_umolperm3\n",
      "talk\n",
      "phos\n",
      "mldeptemp\n"
     ]
    }
   ],
   "source": [
    "mf = MatFile(\"/Users/ct6g18/MATLAB/24_north/alldata_anthro.mat\")\n",
    "variable_names(mf)\n",
    "\n",
    "alldata = get_variable(mf,\"alldata\")\n",
    "\n",
    "for key in alldata\n",
    "    println(key.first)\n",
    "end\n"
   ]
  },
  {
   "cell_type": "markdown",
   "metadata": {},
   "source": [
    "This has loaded all the data from our `.mat`. Now we just need to write this all off to a `.csv`\n",
    "using a dataframe and then just read it into python using pandas?"
   ]
  },
  {
   "cell_type": "code",
   "execution_count": 15,
   "metadata": {},
   "outputs": [
    {
     "data": {
      "text/html": [
       "<div class=\"data-frame\"><p>14,399 rows × 61 columns (omitted printing of 52 columns)</p><table class=\"data-frame\"><thead><tr><th></th><th>Cstar</th><th>DATE</th><th>NO</th><th>PO</th><th>TIME</th><th>TOC</th><th>TTD</th><th>TrOCA</th><th>alk0</th></tr><tr><th></th><th title=\"Float64\">Float64</th><th title=\"Float64\">Float64</th><th title=\"Float64\">Float64</th><th title=\"Float64\">Float64</th><th title=\"Float64\">Float64</th><th title=\"Float64\">Float64</th><th title=\"Float64\">Float64</th><th title=\"Float64\">Float64</th><th title=\"Float64\">Float64</th></tr></thead><tbody><tr><th>1</th><td>73.7808</td><td>1.99207e7</td><td>226.158</td><td>239.038</td><td>50.0</td><td>NaN</td><td>NaN</td><td>70.09</td><td>2399.05</td></tr><tr><th>2</th><td>72.9877</td><td>1.99207e7</td><td>226.443</td><td>244.693</td><td>50.0</td><td>NaN</td><td>NaN</td><td>69.09</td><td>2402.89</td></tr><tr><th>3</th><td>70.3604</td><td>1.99207e7</td><td>236.484</td><td>258.134</td><td>50.0</td><td>NaN</td><td>NaN</td><td>66.66</td><td>2408.02</td></tr><tr><th>4</th><td>59.8217</td><td>1.99207e7</td><td>236.441</td><td>246.751</td><td>50.0</td><td>NaN</td><td>NaN</td><td>57.81</td><td>2400.27</td></tr><tr><th>5</th><td>53.4422</td><td>1.99207e7</td><td>229.927</td><td>252.317</td><td>50.0</td><td>NaN</td><td>NaN</td><td>50.11</td><td>2407.84</td></tr><tr><th>6</th><td>37.288</td><td>1.99207e7</td><td>232.696</td><td>271.716</td><td>50.0</td><td>NaN</td><td>NaN</td><td>34.21</td><td>2406.79</td></tr><tr><th>7</th><td>48.9393</td><td>1.99207e7</td><td>235.392</td><td>259.292</td><td>50.0</td><td>NaN</td><td>NaN</td><td>45.0</td><td>2396.95</td></tr><tr><th>8</th><td>40.1798</td><td>1.99207e7</td><td>246.295</td><td>278.295</td><td>50.0</td><td>NaN</td><td>NaN</td><td>35.41</td><td>2385.36</td></tr><tr><th>9</th><td>NaN</td><td>1.99207e7</td><td>292.832</td><td>301.872</td><td>50.0</td><td>NaN</td><td>NaN</td><td>34.6</td><td>2361.2</td></tr><tr><th>10</th><td>29.9673</td><td>1.99207e7</td><td>NaN</td><td>NaN</td><td>50.0</td><td>NaN</td><td>NaN</td><td>27.57</td><td>2345.92</td></tr><tr><th>11</th><td>30.4605</td><td>1.99207e7</td><td>NaN</td><td>NaN</td><td>50.0</td><td>NaN</td><td>NaN</td><td>23.26</td><td>2338.93</td></tr><tr><th>12</th><td>19.5952</td><td>1.99207e7</td><td>NaN</td><td>NaN</td><td>50.0</td><td>NaN</td><td>NaN</td><td>16.87</td><td>2328.51</td></tr><tr><th>13</th><td>3.3964</td><td>1.99207e7</td><td>NaN</td><td>NaN</td><td>50.0</td><td>NaN</td><td>NaN</td><td>-0.32</td><td>2318.14</td></tr><tr><th>14</th><td>11.2321</td><td>1.99207e7</td><td>NaN</td><td>NaN</td><td>50.0</td><td>NaN</td><td>NaN</td><td>6.64</td><td>2311.74</td></tr><tr><th>15</th><td>14.6183</td><td>1.99207e7</td><td>NaN</td><td>NaN</td><td>50.0</td><td>NaN</td><td>NaN</td><td>9.64</td><td>2311.03</td></tr><tr><th>16</th><td>12.3133</td><td>1.99207e7</td><td>NaN</td><td>NaN</td><td>50.0</td><td>NaN</td><td>NaN</td><td>8.0</td><td>2315.17</td></tr><tr><th>17</th><td>21.6602</td><td>1.99207e7</td><td>NaN</td><td>NaN</td><td>50.0</td><td>NaN</td><td>NaN</td><td>13.06</td><td>2314.23</td></tr><tr><th>18</th><td>NaN</td><td>1.99207e7</td><td>NaN</td><td>NaN</td><td>50.0</td><td>NaN</td><td>NaN</td><td>3.33</td><td>2313.3</td></tr><tr><th>19</th><td>68.2372</td><td>1.99207e7</td><td>226.785</td><td>238.675</td><td>627.0</td><td>NaN</td><td>NaN</td><td>64.45</td><td>2404.11</td></tr><tr><th>20</th><td>67.2719</td><td>1.99207e7</td><td>224.739</td><td>223.029</td><td>627.0</td><td>NaN</td><td>NaN</td><td>63.66</td><td>2404.11</td></tr><tr><th>21</th><td>70.0265</td><td>1.99207e7</td><td>232.108</td><td>249.098</td><td>627.0</td><td>NaN</td><td>NaN</td><td>66.54</td><td>2400.15</td></tr><tr><th>22</th><td>49.8522</td><td>1.99207e7</td><td>217.308</td><td>219.678</td><td>627.0</td><td>NaN</td><td>NaN</td><td>46.65</td><td>2409.01</td></tr><tr><th>23</th><td>45.5183</td><td>1.99207e7</td><td>232.715</td><td>271.805</td><td>627.0</td><td>NaN</td><td>NaN</td><td>41.26</td><td>2398.64</td></tr><tr><th>24</th><td>54.0758</td><td>1.99207e7</td><td>234.876</td><td>246.976</td><td>627.0</td><td>NaN</td><td>48.5316</td><td>49.66</td><td>2395.32</td></tr><tr><th>&vellip;</th><td>&vellip;</td><td>&vellip;</td><td>&vellip;</td><td>&vellip;</td><td>&vellip;</td><td>&vellip;</td><td>&vellip;</td><td>&vellip;</td><td>&vellip;</td></tr></tbody></table></div>"
      ],
      "text/latex": [
       "\\begin{tabular}{r|cccccccccc}\n",
       "\t& Cstar & DATE & NO & PO & TIME & TOC & TTD & TrOCA & alk0 & \\\\\n",
       "\t\\hline\n",
       "\t& Float64 & Float64 & Float64 & Float64 & Float64 & Float64 & Float64 & Float64 & Float64 & \\\\\n",
       "\t\\hline\n",
       "\t1 & 73.7808 & 1.99207e7 & 226.158 & 239.038 & 50.0 & NaN & NaN & 70.09 & 2399.05 & $\\dots$ \\\\\n",
       "\t2 & 72.9877 & 1.99207e7 & 226.443 & 244.693 & 50.0 & NaN & NaN & 69.09 & 2402.89 & $\\dots$ \\\\\n",
       "\t3 & 70.3604 & 1.99207e7 & 236.484 & 258.134 & 50.0 & NaN & NaN & 66.66 & 2408.02 & $\\dots$ \\\\\n",
       "\t4 & 59.8217 & 1.99207e7 & 236.441 & 246.751 & 50.0 & NaN & NaN & 57.81 & 2400.27 & $\\dots$ \\\\\n",
       "\t5 & 53.4422 & 1.99207e7 & 229.927 & 252.317 & 50.0 & NaN & NaN & 50.11 & 2407.84 & $\\dots$ \\\\\n",
       "\t6 & 37.288 & 1.99207e7 & 232.696 & 271.716 & 50.0 & NaN & NaN & 34.21 & 2406.79 & $\\dots$ \\\\\n",
       "\t7 & 48.9393 & 1.99207e7 & 235.392 & 259.292 & 50.0 & NaN & NaN & 45.0 & 2396.95 & $\\dots$ \\\\\n",
       "\t8 & 40.1798 & 1.99207e7 & 246.295 & 278.295 & 50.0 & NaN & NaN & 35.41 & 2385.36 & $\\dots$ \\\\\n",
       "\t9 & NaN & 1.99207e7 & 292.832 & 301.872 & 50.0 & NaN & NaN & 34.6 & 2361.2 & $\\dots$ \\\\\n",
       "\t10 & 29.9673 & 1.99207e7 & NaN & NaN & 50.0 & NaN & NaN & 27.57 & 2345.92 & $\\dots$ \\\\\n",
       "\t11 & 30.4605 & 1.99207e7 & NaN & NaN & 50.0 & NaN & NaN & 23.26 & 2338.93 & $\\dots$ \\\\\n",
       "\t12 & 19.5952 & 1.99207e7 & NaN & NaN & 50.0 & NaN & NaN & 16.87 & 2328.51 & $\\dots$ \\\\\n",
       "\t13 & 3.3964 & 1.99207e7 & NaN & NaN & 50.0 & NaN & NaN & -0.32 & 2318.14 & $\\dots$ \\\\\n",
       "\t14 & 11.2321 & 1.99207e7 & NaN & NaN & 50.0 & NaN & NaN & 6.64 & 2311.74 & $\\dots$ \\\\\n",
       "\t15 & 14.6183 & 1.99207e7 & NaN & NaN & 50.0 & NaN & NaN & 9.64 & 2311.03 & $\\dots$ \\\\\n",
       "\t16 & 12.3133 & 1.99207e7 & NaN & NaN & 50.0 & NaN & NaN & 8.0 & 2315.17 & $\\dots$ \\\\\n",
       "\t17 & 21.6602 & 1.99207e7 & NaN & NaN & 50.0 & NaN & NaN & 13.06 & 2314.23 & $\\dots$ \\\\\n",
       "\t18 & NaN & 1.99207e7 & NaN & NaN & 50.0 & NaN & NaN & 3.33 & 2313.3 & $\\dots$ \\\\\n",
       "\t19 & 68.2372 & 1.99207e7 & 226.785 & 238.675 & 627.0 & NaN & NaN & 64.45 & 2404.11 & $\\dots$ \\\\\n",
       "\t20 & 67.2719 & 1.99207e7 & 224.739 & 223.029 & 627.0 & NaN & NaN & 63.66 & 2404.11 & $\\dots$ \\\\\n",
       "\t21 & 70.0265 & 1.99207e7 & 232.108 & 249.098 & 627.0 & NaN & NaN & 66.54 & 2400.15 & $\\dots$ \\\\\n",
       "\t22 & 49.8522 & 1.99207e7 & 217.308 & 219.678 & 627.0 & NaN & NaN & 46.65 & 2409.01 & $\\dots$ \\\\\n",
       "\t23 & 45.5183 & 1.99207e7 & 232.715 & 271.805 & 627.0 & NaN & NaN & 41.26 & 2398.64 & $\\dots$ \\\\\n",
       "\t24 & 54.0758 & 1.99207e7 & 234.876 & 246.976 & 627.0 & NaN & 48.5316 & 49.66 & 2395.32 & $\\dots$ \\\\\n",
       "\t$\\dots$ & $\\dots$ & $\\dots$ & $\\dots$ & $\\dots$ & $\\dots$ & $\\dots$ & $\\dots$ & $\\dots$ & $\\dots$ &  \\\\\n",
       "\\end{tabular}\n"
      ],
      "text/plain": [
       "\u001b[1m14399×61 DataFrame\u001b[0m\n",
       "\u001b[1m   Row \u001b[0m│\u001b[1m Cstar    \u001b[0m\u001b[1m DATE      \u001b[0m\u001b[1m NO      \u001b[0m\u001b[1m PO      \u001b[0m\u001b[1m TIME    \u001b[0m\u001b[1m TOC     \u001b[0m\u001b[1m TTD     \u001b[0m\u001b[1m TrO\u001b[0m ⋯\n",
       "\u001b[1m       \u001b[0m│\u001b[90m Float64  \u001b[0m\u001b[90m Float64   \u001b[0m\u001b[90m Float64 \u001b[0m\u001b[90m Float64 \u001b[0m\u001b[90m Float64 \u001b[0m\u001b[90m Float64 \u001b[0m\u001b[90m Float64 \u001b[0m\u001b[90m Flo\u001b[0m ⋯\n",
       "───────┼────────────────────────────────────────────────────────────────────────\n",
       "     1 │  73.7808  1.99207e7  226.158  239.038     50.0      NaN      NaN   70 ⋯\n",
       "     2 │  72.9877  1.99207e7  226.443  244.693     50.0      NaN      NaN   69\n",
       "     3 │  70.3604  1.99207e7  236.484  258.134     50.0      NaN      NaN   66\n",
       "     4 │  59.8217  1.99207e7  236.441  246.751     50.0      NaN      NaN   57\n",
       "     5 │  53.4422  1.99207e7  229.927  252.317     50.0      NaN      NaN   50 ⋯\n",
       "     6 │  37.288   1.99207e7  232.696  271.716     50.0      NaN      NaN   34\n",
       "     7 │  48.9393  1.99207e7  235.392  259.292     50.0      NaN      NaN   45\n",
       "     8 │  40.1798  1.99207e7  246.295  278.295     50.0      NaN      NaN   35\n",
       "   ⋮   │    ⋮          ⋮         ⋮        ⋮        ⋮        ⋮        ⋮         ⋱\n",
       " 14393 │ NaN       2.01207e7  NaN      NaN       1902.0      NaN      NaN  NaN ⋯\n",
       " 14394 │ NaN       2.01207e7  198.96   207.19    1902.0      NaN      NaN  NaN\n",
       " 14395 │  91.3538  2.01207e7  196.69   203.31    1902.0      NaN      NaN   77\n",
       " 14396 │ NaN       2.01207e7  196.13   204.63    1902.0      NaN      NaN  NaN\n",
       " 14397 │  81.3139  2.01207e7  196.2    204.7     1902.0      NaN      NaN   67 ⋯\n",
       " 14398 │ NaN       2.01207e7  195.81   206.01    1902.0      NaN      NaN   80\n",
       " 14399 │ NaN       2.01207e7  NaN      NaN       1902.0      NaN      NaN  NaN\n",
       "\u001b[36m                                               54 columns and 14384 rows omitted\u001b[0m"
      ]
     },
     "metadata": {},
     "output_type": "display_data"
    }
   ],
   "source": [
    "using DataFrames\n",
    "df = DataFrame(alldata)"
   ]
  },
  {
   "cell_type": "code",
   "execution_count": 16,
   "metadata": {},
   "outputs": [
    {
     "data": {
      "text/plain": [
       "\"/Users/ct6g18/Python/keras/ML_Carbon/24_north.csv\""
      ]
     },
     "metadata": {},
     "output_type": "display_data"
    }
   ],
   "source": [
    "using CSV\n",
    "CSV.write(\"/Users/ct6g18/Python/keras/ML_Carbon/24_north.csv\",df)"
   ]
  }
 ],
 "metadata": {
  "kernelspec": {
   "display_name": "Julia 1.7.2",
   "language": "julia",
   "name": "julia-1.7"
  },
  "language_info": {
   "file_extension": ".jl",
   "mimetype": "application/julia",
   "name": "julia",
   "version": "1.7.2"
  },
  "orig_nbformat": 4
 },
 "nbformat": 4,
 "nbformat_minor": 2
}
