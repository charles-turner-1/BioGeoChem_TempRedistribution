{
 "cells": [
  {
   "cell_type": "code",
   "execution_count": 2,
   "metadata": {},
   "outputs": [],
   "source": [
    "include(\"/Users/ct6g18/Julia/GLODAP_Section_Gridder/src/GLODAP_Section_Gridder.jl\")\n",
    "using MATLAB\n",
    "using NCDatasets\n",
    "using DataStructures\n",
    "using CSV"
   ]
  },
  {
   "cell_type": "markdown",
   "metadata": {},
   "source": [
    "So what I want to do is read in pred_theta_for_gridding, and write it to a random `expocode.mat` file. Then we can specify an exception dir wherever I've written it, and grid the output field from there."
   ]
  },
  {
   "cell_type": "code",
   "execution_count": null,
   "metadata": {},
   "outputs": [],
   "source": [
    "df = CSV.read(\"/Users/ct6g18/Python/keras/ML_Carbon/pred_theta_for_gridding.csv\",DataFrame)\n",
    "\n",
    "colnames = [name for name in names(df)]\n",
    "cruiseDict = Dict(zip(colnames, eachcol(df)))\n",
    "\n",
    "cruiseDict = convert(Dict{String,Vector{Float64}},cruiseDict)"
   ]
  },
  {
   "cell_type": "code",
   "execution_count": null,
   "metadata": {},
   "outputs": [],
   "source": [
    "GLODAP_Section_Gridder.writeCruiseException(outputExpocode=\"29HE19920714\"\n",
    "                                           ,cruiseDict=cruiseDict\n",
    "                                           ,EXCEPTIONS_DIR=\"/Users/ct6g18/Python/keras/ML_Carbon\")"
   ]
  },
  {
   "cell_type": "code",
   "execution_count": null,
   "metadata": {},
   "outputs": [],
   "source": [
    "theta_actual = GLODAP_Section_Gridder.gridCruisePipeline(sectionName=\"A05\"\n",
    "                                                        ,horzCoordinate=\"longitude\"\n",
    "                                                        ,expocode=\"29HE19920714\"\n",
    "                                                        ,variableName=\"G2theta\")"
   ]
  },
  {
   "cell_type": "code",
   "execution_count": null,
   "metadata": {},
   "outputs": [],
   "source": [
    "\n",
    "theta_actual = GLODAP_Section_Gridder.gridCruisePipeline(sectionName=\"A05\"\n",
    "                                                        ,horzCoordinate=\"longitude\"\n",
    "                                                        ,expocode=\"29HE19920714\"\n",
    "                                                        ,variableName=\"G2theta\")"
   ]
  }
 ],
 "metadata": {
  "kernelspec": {
   "display_name": "Julia 1.7.2",
   "language": "julia",
   "name": "julia-1.7"
  },
  "language_info": {
   "file_extension": ".jl",
   "mimetype": "application/julia",
   "name": "julia",
   "version": "1.7.2"
  },
  "orig_nbformat": 4
 },
 "nbformat": 4,
 "nbformat_minor": 2
}
