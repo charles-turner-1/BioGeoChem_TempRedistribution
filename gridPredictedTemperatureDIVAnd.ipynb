{
 "cells": [
  {
   "cell_type": "code",
   "execution_count": 26,
   "metadata": {},
   "outputs": [
    {
     "name": "stderr",
     "output_type": "stream",
     "text": [
      "WARNING: replacing module GLODAP_Section_Gridder.\n"
     ]
    }
   ],
   "source": [
    "include(\"/Users/ct6g18/Julia/GLODAP_Section_Gridder/src/GLODAP_Section_Gridder.jl\")\n",
    "using MATLAB\n",
    "using NCDatasets\n",
    "using DataStructures\n",
    "using CSV"
   ]
  },
  {
   "cell_type": "markdown",
   "metadata": {},
   "source": [
    "So what I want to do is read in pred_theta_for_gridding, and write it to a random `expocode.mat` file. Then we can specify an exception dir wherever I've written it, and grid the output field from there."
   ]
  },
  {
   "cell_type": "code",
   "execution_count": 46,
   "metadata": {},
   "outputs": [
    {
     "data": {
      "text/plain": [
       "Dict{String, Vector{Float64}} with 8 entries:\n",
       "  \"theta_predicted\" => [26.4955, 2.48626, 16.7653, 3.25313, 4.23821, 8.98727, 2…\n",
       "  \"G2pressure\"      => [26.8, 3045.7, 198.6, 2530.1, 1518.2, 756.7, 3003.8, 255…\n",
       "  \"G2latitude\"      => [24.5, 24.5058, 24.5013, 24.5032, 24.501, 24.5032, 24.50…\n",
       "  \"Column1\"         => [0.0, 1.0, 2.0, 3.0, 4.0, 5.0, 6.0, 7.0, 8.0, 9.0  …  22…\n",
       "  \"G2station\"       => [52.0, 15.0, 16.0, 26.0, 50.0, 26.0, 74.0, 8.0, 97.0, 26…\n",
       "  \"theta_actual\"    => [26.5436, 2.5009, 17.2079, 2.9753, 3.6259, 8.9575, 2.510…\n",
       "  \"G2longitude\"     => [-45.8278, -21.9747, -22.6693, -29.3292, -44.6697, -29.3…\n",
       "  \"G2gamma\"         => [24.7714, 28.0756, 26.6715, 28.0413, 27.9759, 27.4348, 2…"
      ]
     },
     "metadata": {},
     "output_type": "display_data"
    }
   ],
   "source": [
    "df = CSV.read(\"/Users/ct6g18/Python/keras/ML_Carbon/pred_theta_for_gridding.csv\",DataFrame)\n",
    "\n",
    "colnames = [name for name in names(df)]\n",
    "cruiseDict = Dict(zip(colnames, eachcol(df)))\n",
    "\n",
    "cruiseDict = convert(Dict{String,Vector{Float64}},cruiseDict)"
   ]
  },
  {
   "cell_type": "code",
   "execution_count": 47,
   "metadata": {},
   "outputs": [
    {
     "ename": "UndefVarError",
     "evalue": "UndefVarError: exceptionListCSVFile not defined",
     "output_type": "error",
     "traceback": [
      "UndefVarError: exceptionListCSVFile not defined\n",
      "\n",
      "Stacktrace:\n",
      " [1] writeCruiseException(; outputExpocode::String, cruiseDict::Dict{String, Vector{Float64}}, yearString::String, EXCEPTIONS_DIR::String)\n",
      "   @ Main.GLODAP_Section_Gridder ~/Julia/GLODAP_Section_Gridder/src/exception_handling.jl:81\n",
      " [2] top-level scope\n",
      "   @ Untitled-2.ipynb:1"
     ]
    }
   ],
   "source": [
    "GLODAP_Section_Gridder.writeCruiseException(outputExpocode=\"29HE19920714_Pred\"\n",
    "                                           ,cruiseDict=cruiseDict\n",
    "                                           ,EXCEPTIONS_DIR=\"/Users/ct6g18/Python/keras/ML_Carbon\")"
   ]
  }
 ],
 "metadata": {
  "kernelspec": {
   "display_name": "Julia 1.7.2",
   "language": "julia",
   "name": "julia-1.7"
  },
  "language_info": {
   "file_extension": ".jl",
   "mimetype": "application/julia",
   "name": "julia",
   "version": "1.7.2"
  },
  "orig_nbformat": 4
 },
 "nbformat": 4,
 "nbformat_minor": 2
}
